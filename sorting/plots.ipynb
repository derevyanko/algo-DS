{
 "cells": [
  {
   "cell_type": "code",
   "execution_count": 105,
   "metadata": {},
   "outputs": [],
   "source": [
    "import matplotlib.pyplot as plt\n",
    "import glob"
   ]
  },
  {
   "cell_type": "code",
   "execution_count": 106,
   "metadata": {},
   "outputs": [],
   "source": [
    "class Sort:\n",
    "    def __init__(self, name):\n",
    "        self.name = name\n",
    "        self.tests = list()\n",
    "\n",
    "    def sortsByArrayType(self, type: str) -> list[Test]:\n",
    "        return list(filter(lambda test: test.arrayType == type), self.tests)"
   ]
  },
  {
   "cell_type": "code",
   "execution_count": 107,
   "metadata": {},
   "outputs": [],
   "source": [
    "class Test:\n",
    "    def __init__(self, **kwargs):\n",
    "        self.arrayType = kwargs['arrayType']\n",
    "        self.arraySize = kwargs['arraySize']\n",
    "        self.timeExecution = kwargs['timeExecution']\n",
    "\n",
    "    def __repr__(self) -> str:\n",
    "        return f\"array type: {self.arrayType}\\t\" \\\n",
    "                f\"array size: {self.arraySize}\\t\" \\\n",
    "                f\"time execution: {self.timeExecution:.10f}\""
   ]
  },
  {
   "cell_type": "code",
   "execution_count": 108,
   "metadata": {},
   "outputs": [],
   "source": [
    "def getData() -> list[Sort]:\n",
    "    data = list()\n",
    "    sortingFiles = glob.glob('./*.txt')\n",
    "    for filename in sortingFiles:\n",
    "        file = open(filename, 'r')\n",
    "        sort = Sort(filename[2:-4])\n",
    "        for line in file.readlines():\n",
    "            arrayType, arraySize, timeExecution = line.split()\n",
    "            test = Test(\n",
    "                arrayType=arrayType, \n",
    "                arraySize=int(arraySize), \n",
    "                timeExecution=float(timeExecution)\n",
    "            )\n",
    "            sort.tests.append(test)\n",
    "        \n",
    "        data.append(sort)\n",
    "\n",
    "    return data"
   ]
  },
  {
   "cell_type": "code",
   "execution_count": 112,
   "metadata": {},
   "outputs": [
    {
     "data": {
      "text/plain": [
       "[<__main__.Sort at 0x7ff7dddace80>,\n",
       " <__main__.Sort at 0x7ff7ddd47e80>,\n",
       " <__main__.Sort at 0x7ff7dd9ce610>,\n",
       " <__main__.Sort at 0x7ff7de475550>,\n",
       " <__main__.Sort at 0x7ff7de0f71f0>,\n",
       " <__main__.Sort at 0x7ff7ddd99f70>]"
      ]
     },
     "execution_count": 112,
     "metadata": {},
     "output_type": "execute_result"
    }
   ],
   "source": [
    "data = getData()\n",
    "data"
   ]
  },
  {
   "cell_type": "code",
   "execution_count": 113,
   "metadata": {},
   "outputs": [
    {
     "name": "stdout",
     "output_type": "stream",
     "text": [
      "[array type: random\tarray size: 10\ttime execution: 0.0000010000, array type: random\tarray size: 100\ttime execution: 0.0000210000, array type: random\tarray size: 1000\ttime execution: 0.0019260000, array type: random\tarray size: 10000\ttime execution: 0.1635990000, array type: random\tarray size: 20000\ttime execution: 0.6537020000, array type: random\tarray size: 30000\ttime execution: 1.4568000000, array type: random\tarray size: 40000\ttime execution: 2.5665700000, array type: random\tarray size: 50000\ttime execution: 4.0121500000]\n",
      "\n",
      "[array type: reversed\tarray size: 10\ttime execution: 0.0000000000, array type: reversed\tarray size: 100\ttime execution: 0.0000350000, array type: reversed\tarray size: 1000\ttime execution: 0.0041610000, array type: reversed\tarray size: 10000\ttime execution: 0.3205590000, array type: reversed\tarray size: 20000\ttime execution: 1.2863100000, array type: reversed\tarray size: 30000\ttime execution: 2.8947400000, array type: reversed\tarray size: 40000\ttime execution: 5.1672700000, array type: reversed\tarray size: 50000\ttime execution: 8.1052800000]\n",
      "\n",
      "[array type: random\tarray size: 10\ttime execution: 0.0000020000, array type: random\tarray size: 100\ttime execution: 0.0000980000, array type: random\tarray size: 1000\ttime execution: 0.0183780000, array type: random\tarray size: 10000\ttime execution: 0.8710080000, array type: random\tarray size: 20000\ttime execution: 2.8168200000, array type: random\tarray size: 30000\ttime execution: 6.2727700000, array type: random\tarray size: 40000\ttime execution: 10.5215000000, array type: random\tarray size: 50000\ttime execution: 15.3362000000]\n",
      "\n",
      "[array type: reversed\tarray size: 10\ttime execution: 0.0000010000, array type: reversed\tarray size: 100\ttime execution: 0.0038050000, array type: reversed\tarray size: 1000\ttime execution: 0.0163710000, array type: reversed\tarray size: 10000\ttime execution: 0.8071590000, array type: reversed\tarray size: 20000\ttime execution: 2.9971500000, array type: reversed\tarray size: 30000\ttime execution: 6.5610000000, array type: reversed\tarray size: 40000\ttime execution: 11.0121000000, array type: reversed\tarray size: 50000\ttime execution: 16.4338000000]\n",
      "\n",
      "[array type: random\tarray size: 10\ttime execution: 0.0000010000, array type: random\tarray size: 100\ttime execution: 0.0000390000, array type: random\tarray size: 1000\ttime execution: 0.0004520000, array type: random\tarray size: 10000\ttime execution: 0.0049690000, array type: random\tarray size: 20000\ttime execution: 0.0095870000, array type: random\tarray size: 30000\ttime execution: 0.0156490000, array type: random\tarray size: 40000\ttime execution: 0.0201840000, array type: random\tarray size: 50000\ttime execution: 0.0259910000]\n",
      "\n",
      "[array type: reversed\tarray size: 10\ttime execution: 0.0000010000, array type: reversed\tarray size: 100\ttime execution: 0.0000150000, array type: reversed\tarray size: 1000\ttime execution: 0.0003030000, array type: reversed\tarray size: 10000\ttime execution: 0.0041740000, array type: reversed\tarray size: 20000\ttime execution: 0.0074830000, array type: reversed\tarray size: 30000\ttime execution: 0.0104800000, array type: reversed\tarray size: 40000\ttime execution: 0.0138570000, array type: reversed\tarray size: 50000\ttime execution: 0.0201930000]\n",
      "\n",
      "[array type: random\tarray size: 10\ttime execution: 0.0000020000, array type: random\tarray size: 100\ttime execution: 0.0000710000, array type: random\tarray size: 1000\ttime execution: 0.0076040000, array type: random\tarray size: 10000\ttime execution: 0.6015230000, array type: random\tarray size: 20000\ttime execution: 2.4025900000, array type: random\tarray size: 30000\ttime execution: 5.3965900000, array type: random\tarray size: 40000\ttime execution: 9.5296700000, array type: random\tarray size: 50000\ttime execution: 14.9695000000]\n",
      "\n",
      "[array type: reversed\tarray size: 10\ttime execution: 0.0000010000, array type: reversed\tarray size: 100\ttime execution: 0.0001220000, array type: reversed\tarray size: 1000\ttime execution: 0.0073290000, array type: reversed\tarray size: 10000\ttime execution: 0.6030910000, array type: reversed\tarray size: 20000\ttime execution: 2.4053000000, array type: reversed\tarray size: 30000\ttime execution: 5.3907600000, array type: reversed\tarray size: 40000\ttime execution: 9.6623500000, array type: reversed\tarray size: 50000\ttime execution: 15.0962000000]\n",
      "\n",
      "[array type: random\tarray size: 10\ttime execution: 0.0000010000, array type: random\tarray size: 100\ttime execution: 0.0000560000, array type: random\tarray size: 1000\ttime execution: 0.0065740000, array type: random\tarray size: 10000\ttime execution: 0.5536260000, array type: random\tarray size: 20000\ttime execution: 2.1315600000, array type: random\tarray size: 30000\ttime execution: 4.8390800000, array type: random\tarray size: 40000\ttime execution: 8.5962100000, array type: random\tarray size: 50000\ttime execution: 13.4509000000]\n",
      "\n",
      "[array type: reversed\tarray size: 10\ttime execution: 0.0000010000, array type: reversed\tarray size: 100\ttime execution: 0.0001230000, array type: reversed\tarray size: 1000\ttime execution: 0.0077890000, array type: reversed\tarray size: 10000\ttime execution: 0.6705570000, array type: reversed\tarray size: 20000\ttime execution: 2.6425600000, array type: reversed\tarray size: 30000\ttime execution: 5.9447400000, array type: reversed\tarray size: 40000\ttime execution: 10.6188000000, array type: reversed\tarray size: 50000\ttime execution: 16.6116000000]\n",
      "\n",
      "[array type: random\tarray size: 10\ttime execution: 0.0000030000, array type: random\tarray size: 100\ttime execution: 0.0000120000, array type: random\tarray size: 1000\ttime execution: 0.0002270000, array type: random\tarray size: 10000\ttime execution: 0.0025440000, array type: random\tarray size: 20000\ttime execution: 0.0046410000, array type: random\tarray size: 30000\ttime execution: 0.0078210000, array type: random\tarray size: 40000\ttime execution: 0.0150160000, array type: random\tarray size: 50000\ttime execution: 0.0184070000]\n",
      "\n",
      "[array type: reversed\tarray size: 10\ttime execution: 0.0000000000, array type: reversed\tarray size: 100\ttime execution: 0.0000060000, array type: reversed\tarray size: 1000\ttime execution: 0.0000580000, array type: reversed\tarray size: 10000\ttime execution: 0.0005800000, array type: reversed\tarray size: 20000\ttime execution: 0.0019980000, array type: reversed\tarray size: 30000\ttime execution: 0.0020720000, array type: reversed\tarray size: 40000\ttime execution: 0.0039670000, array type: reversed\tarray size: 50000\ttime execution: 0.0161290000]\n",
      "\n"
     ]
    },
    {
     "data": {
      "text/plain": [
       "<Figure size 432x288 with 0 Axes>"
      ]
     },
     "metadata": {},
     "output_type": "display_data"
    }
   ],
   "source": [
    "for sort in data:\n",
    "    for arrayType in ['random', 'reversed']:\n",
    "        typed_tests = list(filter(lambda test: test.arrayType == arrayType, sort.tests))\n",
    "        print(typed_tests)\n",
    "        print()\n",
    "\n",
    "        sizes = [test.arraySize for test in typed_tests]\n",
    "        times = [test.timeExecution for test in typed_tests]\n",
    "        plt.plot(sizes, times, label=arrayType)\n",
    "    \n",
    "    plt.title(sort.name) \n",
    "    plt.xlabel(\"Array size\")\n",
    "    plt.ylabel(\"Time execution(seconds)\")\n",
    "    plt.legend()\n",
    "    plt.savefig(f'plots/{sort.name}.png', dpi=200)\n",
    "    plt.clf()"
   ]
  },
  {
   "cell_type": "code",
   "execution_count": null,
   "metadata": {},
   "outputs": [],
   "source": []
  }
 ],
 "metadata": {
  "interpreter": {
   "hash": "aee8b7b246df8f9039afb4144a1f6fd8d2ca17a180786b69acc140d282b71a49"
  },
  "kernelspec": {
   "display_name": "Python 3.9.9 64-bit",
   "language": "python",
   "name": "python3"
  },
  "language_info": {
   "codemirror_mode": {
    "name": "ipython",
    "version": 3
   },
   "file_extension": ".py",
   "mimetype": "text/x-python",
   "name": "python",
   "nbconvert_exporter": "python",
   "pygments_lexer": "ipython3",
   "version": "3.9.9"
  },
  "orig_nbformat": 4
 },
 "nbformat": 4,
 "nbformat_minor": 2
}
